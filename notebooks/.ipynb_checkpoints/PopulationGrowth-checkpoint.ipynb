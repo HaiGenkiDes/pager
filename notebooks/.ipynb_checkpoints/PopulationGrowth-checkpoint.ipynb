{
 "cells": [
  {
   "cell_type": "code",
   "execution_count": 1,
   "metadata": {
    "collapsed": true
   },
   "outputs": [],
   "source": [
    "%matplotlib inline"
   ]
  },
  {
   "cell_type": "code",
   "execution_count": 2,
   "metadata": {
    "collapsed": true
   },
   "outputs": [],
   "source": [
    "from losspager.models.growth import PopulationGrowth,adjust_pop\n",
    "import os.path\n",
    "import matplotlib.pyplot as plt"
   ]
  },
  {
   "cell_type": "markdown",
   "metadata": {},
   "source": [
    "We use a population growth model \n",
    "\n",
    "$$Pa = P * (1+r)^{-T}$$\n",
    "\n",
    "where: \n",
    "\n",
    "P = initial population value\n",
    "\n",
    "T = Time span (years)\n",
    "\n",
    "r = Growth rate\n",
    "\n",
    "Pa = Adjusted population\n",
    "\n",
    "Our growth rates come from a UN spreadsheet, found here: http://esa.un.org/unpd/wpp/Download/Standard/Population/\n",
    "\n",
    "The spreadsheet has growth rates per country, in half-decade increments."
   ]
  },
  {
   "cell_type": "markdown",
   "metadata": {},
   "source": [
    "The basic function is available through the public interface."
   ]
  },
  {
   "cell_type": "code",
   "execution_count": 3,
   "metadata": {
    "collapsed": false
   },
   "outputs": [
    {
     "name": "stdout",
     "output_type": "stream",
     "text": [
      "Adjusted population is: 1,010,000\n"
     ]
    }
   ],
   "source": [
    "tpop = 2015\n",
    "tevent = 2016\n",
    "ccode = 841 #US\n",
    "pop = 1e6\n",
    "rate = 0.01 #1% growth rate\n",
    "newpop = adjust_pop(pop,tpop,tevent,rate)\n",
    "print('Adjusted population is: %s' % (format(int(newpop),\",d\")))"
   ]
  },
  {
   "cell_type": "markdown",
   "metadata": {},
   "source": [
    "We can have negative population growth..."
   ]
  },
  {
   "cell_type": "code",
   "execution_count": 4,
   "metadata": {
    "collapsed": false
   },
   "outputs": [
    {
     "name": "stdout",
     "output_type": "stream",
     "text": [
      "Adjusted population is: 990,099\n"
     ]
    }
   ],
   "source": [
    "tpop = 2016\n",
    "tevent = 2015\n",
    "pop = 1e6\n",
    "rate = 0.01 #1% growth rate\n",
    "newpop = adjust_pop(pop,tpop,tevent,rate)\n",
    "print('Adjusted population is: %s' % (format(int(newpop),\",d\")))"
   ]
  },
  {
   "cell_type": "markdown",
   "metadata": {},
   "source": [
    "Normally we will use the PopulationGrowth class, created from the UN spreadsheet."
   ]
  },
  {
   "cell_type": "code",
   "execution_count": 5,
   "metadata": {
    "collapsed": true
   },
   "outputs": [],
   "source": [
    "excelfile = os.path.join(os.getcwd(),'..','test','data','WPP2015_POP_F02_POPULATION_GROWTH_RATE.xls')\n",
    "pg = PopulationGrowth.loadFromUNSpreadsheet(excelfile)"
   ]
  },
  {
   "cell_type": "markdown",
   "metadata": {},
   "source": [
    "We can get all the rates for a given (ISO numeric) country code."
   ]
  },
  {
   "cell_type": "code",
   "execution_count": 8,
   "metadata": {
    "collapsed": false
   },
   "outputs": [
    {
     "name": "stdout",
     "output_type": "stream",
     "text": [
      "1950: 0.01581\n",
      "1955: 0.01724\n",
      "1960: 0.01373\n",
      "1965: 0.00987\n",
      "1970: 0.00885\n",
      "1975: 0.00948\n",
      "1980: 0.00945\n",
      "1985: 0.00985\n",
      "1990: 0.01035\n",
      "1995: 0.01211\n",
      "2000: 0.00915\n",
      "2005: 0.00907\n",
      "2010: 0.00754\n"
     ]
    },
    {
     "data": {
      "image/png": "[encoded data removed]",
      "text/plain": [
       "<matplotlib.figure.Figure at 0x110f1ff98>"
      ]
     },
     "metadata": {},
     "output_type": "display_data"
    }
   ],
   "source": [
    "years,rates = pg.getRates(840)\n",
    "for year,rate in zip(years,rates):\n",
    "    print('%i: %.5f' % (year,rate))\n",
    "\n",
    "plt.plot(years,rates);\n",
    "plt.xlabel('Year');\n",
    "plt.ylabel('Population Growth Rate');\n",
    "plt.title('United States Growth Rates');"
   ]
  },
  {
   "cell_type": "markdown",
   "metadata": {},
   "source": [
    "We can also just get a single year."
   ]
  },
  {
   "cell_type": "code",
   "execution_count": 7,
   "metadata": {
    "collapsed": false
   },
   "outputs": [
    {
     "name": "stdout",
     "output_type": "stream",
     "text": [
      "0.01373\n"
     ]
    }
   ],
   "source": [
    "rate = pg.getRate(840,1963)\n",
    "print(rate)"
   ]
  },
  {
   "cell_type": "markdown",
   "metadata": {},
   "source": [
    "Finally, and perhaps most usefully, we can use this class to apply the population growth rates for a country to a population data set (scalar or array)."
   ]
  },
  {
   "cell_type": "code",
   "execution_count": 12,
   "metadata": {
    "collapsed": false
   },
   "outputs": [
    {
     "name": "stdout",
     "output_type": "stream",
     "text": [
      "1,306,742\n"
     ]
    }
   ],
   "source": [
    "population = 1e6\n",
    "startyear = 1993\n",
    "endyear = 2016\n",
    "newpop = pg.adjustPopulation(population,'US',startyear,endyear)\n",
    "print(format(int(newpop),\",d\"))"
   ]
  },
  {
   "cell_type": "code",
   "execution_count": null,
   "metadata": {
    "collapsed": true
   },
   "outputs": [],
   "source": []
  }
 ],
 "metadata": {
  "kernelspec": {
   "display_name": "Python 3",
   "language": "python",
   "name": "python3"
  },
  "language_info": {
   "codemirror_mode": {
    "name": "ipython",
    "version": 3
   },
   "file_extension": ".py",
   "mimetype": "text/x-python",
   "name": "python",
   "nbconvert_exporter": "python",
   "pygments_lexer": "ipython3",
   "version": "3.4.4"
  }
 },
 "nbformat": 4,
 "nbformat_minor": 0
}
