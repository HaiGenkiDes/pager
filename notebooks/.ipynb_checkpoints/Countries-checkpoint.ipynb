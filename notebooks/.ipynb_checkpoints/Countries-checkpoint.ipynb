{
 "cells": [
  {
   "cell_type": "code",
   "execution_count": 1,
   "metadata": {
    "collapsed": true
   },
   "outputs": [],
   "source": [
    "from losspager.utils.country import Country"
   ]
  },
  {
   "cell_type": "markdown",
   "metadata": {},
   "source": [
    "The Country() object contains everything we know about ISO country codes, which are described here:\n",
    "\n",
    "https://en.wikipedia.org/wiki/ISO_3166-1\n",
    "\n",
    "This object allows the user to obtain a dictionary for a country containing:\n",
    "\n",
    " * Name - Country name\n",
    " * LongName - Country long name (may be identical to country name)\n",
    " * ISO2 - Two letter country code.\n",
    " * ISO3 - Three letter country code.\n",
    " * ISON - Numeric country code\n",
    " \n",
    "All of the country codes embedded in this object come from the ISO 3166 standard, with three PAGER specific exceptions:\n",
    "\n",
    "<table>\n",
    "  <tr>\n",
    "    <th>Name</th>\n",
    "    <th>ISO2</th>\n",
    "    <th>ISO3</th>\n",
    "    <th>ISON</th>\n",
    "    <th>LongName</th>\n",
    "  </tr>\n",
    "  <tr>\n",
    "    <td>California</td>\n",
    "    <td>XF</td>\n",
    "    <td>XFA</td>\n",
    "    <td>902</td>\n",
    "    <td>U.S. Earthquake Region California</td>\n",
    "  </tr>\n",
    "  <tr>\n",
    "    <td>Eastern U.S.</td>\n",
    "    <td>EU</td>\n",
    "    <td>EUS</td>\n",
    "    <td>903</td>\n",
    "    <td>U.S. Earthquake Region Central/Eastern United States</td>\n",
    "  </tr>\n",
    "  <tr>\n",
    "    <td>Western U.S.</td>\n",
    "    <td>WU</td>\n",
    "    <td>WUS</td>\n",
    "    <td>904</td>\n",
    "    <td>U.S. Earthquake Region Western United States</td>\n",
    "  </tr>\n",
    "</table>"
   ]
  },
  {
   "cell_type": "markdown",
   "metadata": {},
   "source": [
    "You can get country information by using two letter ISO codes..."
   ]
  },
  {
   "cell_type": "code",
   "execution_count": 2,
   "metadata": {
    "collapsed": false
   },
   "outputs": [
    {
     "name": "stdout",
     "output_type": "stream",
     "text": [
      "{'Name': 'United States', 'ISO2': 'US', 'LongName': 'United States', 'ISO3': 'USA', 'ISON': 840}\n"
     ]
    }
   ],
   "source": [
    "country = Country()\n",
    "print(country.getCountry('US'))"
   ]
  },
  {
   "cell_type": "markdown",
   "metadata": {},
   "source": [
    "... three letter ISO codes ..."
   ]
  },
  {
   "cell_type": "code",
   "execution_count": 3,
   "metadata": {
    "collapsed": false
   },
   "outputs": [
    {
     "name": "stdout",
     "output_type": "stream",
     "text": [
      "{'Name': 'United Kingdom', 'ISO2': 'GB', 'LongName': 'United Kingdom', 'ISO3': 'GBR', 'ISON': 826}\n"
     ]
    }
   ],
   "source": [
    "print(country.getCountry('GBR'))"
   ]
  },
  {
   "cell_type": "markdown",
   "metadata": {},
   "source": [
    "... numeric country codes ... "
   ]
  },
  {
   "cell_type": "code",
   "execution_count": 4,
   "metadata": {
    "collapsed": false
   },
   "outputs": [
    {
     "name": "stdout",
     "output_type": "stream",
     "text": [
      "{'Name': 'India', 'ISO2': 'IN', 'LongName': 'India', 'ISO3': 'IND', 'ISON': 356}\n"
     ]
    }
   ],
   "source": [
    "print(country.getCountry(356))"
   ]
  },
  {
   "cell_type": "markdown",
   "metadata": {},
   "source": [
    "... or the country name, with a big *caveat*."
   ]
  },
  {
   "cell_type": "code",
   "execution_count": 5,
   "metadata": {
    "collapsed": false
   },
   "outputs": [
    {
     "name": "stdout",
     "output_type": "stream",
     "text": [
      "{'Name': 'Indonesia', 'ISO2': 'ID', 'LongName': 'Indonesia', 'ISO3': 'IDN', 'ISON': 360}\n"
     ]
    }
   ],
   "source": [
    "print(country.getCountry('indonesia'))"
   ]
  },
  {
   "cell_type": "markdown",
   "metadata": {},
   "source": [
    "Searching by country name uses a regular expression search, so it may not always return what you expect.  For example, there are four countries with \"guinea\" in the name: Equatorial Guinea, Guinea, Guinea-Bissau, and Papua New Guinea."
   ]
  },
  {
   "cell_type": "code",
   "execution_count": 6,
   "metadata": {
    "collapsed": false
   },
   "outputs": [
    {
     "name": "stdout",
     "output_type": "stream",
     "text": [
      "{'Name': 'Equatorial Guinea', 'ISO2': 'GQ', 'LongName': 'Equatorial Guinea', 'ISO3': 'GNQ', 'ISON': 226}\n"
     ]
    }
   ],
   "source": [
    "print(country.getCountry('guinea'))"
   ]
  },
  {
   "cell_type": "code",
   "execution_count": 9,
   "metadata": {
    "collapsed": false
   },
   "outputs": [
    {
     "name": "stdout",
     "output_type": "stream",
     "text": [
      "{'Name': 'Papua New Guinea', 'ISO2': 'PG', 'LongName': 'Papua New Guinea', 'ISO3': 'PNG', 'ISON': 598}\n"
     ]
    }
   ],
   "source": [
    "print(country.getCountry('papua new guinea'))"
   ]
  },
  {
   "cell_type": "code",
   "execution_count": null,
   "metadata": {
    "collapsed": true
   },
   "outputs": [],
   "source": []
  }
 ],
 "metadata": {
  "kernelspec": {
   "display_name": "Python 3",
   "language": "python",
   "name": "python3"
  },
  "language_info": {
   "codemirror_mode": {
    "name": "ipython",
    "version": 3
   },
   "file_extension": ".py",
   "mimetype": "text/x-python",
   "name": "python",
   "nbconvert_exporter": "python",
   "pygments_lexer": "ipython3",
   "version": "3.4.4"
  }
 },
 "nbformat": 4,
 "nbformat_minor": 0
}
