{
 "cells": [
  {
   "cell_type": "code",
   "execution_count": 1,
   "metadata": {
    "collapsed": true
   },
   "outputs": [],
   "source": [
    "%matplotlib inline"
   ]
  },
  {
   "cell_type": "code",
   "execution_count": 8,
   "metadata": {
    "collapsed": true
   },
   "outputs": [],
   "source": [
    "import os.path\n",
    "from losspager.onepager.pagercity import PagerCities\n",
    "from mapio.basemapcity import BasemapCities\n",
    "from mapio.shake import ShakeGrid"
   ]
  },
  {
   "cell_type": "code",
   "execution_count": 10,
   "metadata": {
    "collapsed": false
   },
   "outputs": [],
   "source": [
    "homedir = os.getcwd()\n",
    "cityfile = os.path.join(homedir,'..','test','data','cities1000.txt')\n",
    "cities = BasemapCities.loadFromGeoNames(cityfile)\n",
    "shakefile = os.path.join(homedir,'..','test','data','eventdata','northridge','northridge_grid.xml')\n",
    "shakemap = ShakeGrid.load(shakefile,adjust='res')\n",
    "mmigrid = shakemap.getLayer('mmi')"
   ]
  },
  {
   "cell_type": "code",
   "execution_count": 11,
   "metadata": {
    "collapsed": false
   },
   "outputs": [
    {
     "name": "stdout",
     "output_type": "stream",
     "text": [
      "Event: 1994-01-17 12:30:55 6.6\n",
      "       ccode  iscap       lat        lon           name      pop   mmi\n",
      "140721    US  False  34.39166 -118.54259  Santa Clarita   176320  8.54\n",
      "140543    US  False  34.22834 -118.53675     Northridge    68469  8.22\n",
      "140837    US  False  34.44361 -118.60953       Valencia   148456  8.21\n",
      "140695    US  False  34.28195 -118.43897   San Fernando    23645  8.20\n",
      "140105    US  False  34.25723 -118.60120     Chatsworth    41255  8.18\n",
      "140083    US  False  34.20112 -118.59814    Canoga Park    60578  8.07\n",
      "140439    US  False  34.05223 -118.24368    Los Angeles  3792621  6.79\n",
      "139975    US  False  33.83529 -117.91450        Anaheim   336265  5.80\n",
      "140433    US  False  33.76696 -118.18923     Long Beach   462257  5.59\n",
      "140718    US  False  33.74557 -117.86783      Santa Ana   324528  5.40\n",
      "140004    US  False  35.37329 -119.01871    Bakersfield   347483  4.40\n"
     ]
    }
   ],
   "source": [
    "cities = BasemapCities.loadFromGeoNames(cityfile)\n",
    "shakemap = ShakeGrid.load(shakefile,adjust='res')\n",
    "mmigrid = shakemap.getLayer('mmi')\n",
    "pc = PagerCities(cities,mmigrid)\n",
    "rows = pc.getCityTable()\n",
    "etimestr = str(shakemap.getEventDict()['event_timestamp'])\n",
    "emag = shakemap.getEventDict()['magnitude']\n",
    "print('Event: %s %.1f' % (etimestr,emag))\n",
    "print(rows)"
   ]
  },
  {
   "cell_type": "code",
   "execution_count": null,
   "metadata": {
    "collapsed": true
   },
   "outputs": [],
   "source": []
  }
 ],
 "metadata": {
  "kernelspec": {
   "display_name": "Python 3",
   "language": "python",
   "name": "python3"
  },
  "language_info": {
   "codemirror_mode": {
    "name": "ipython",
    "version": 3
   },
   "file_extension": ".py",
   "mimetype": "text/x-python",
   "name": "python",
   "nbconvert_exporter": "python",
   "pygments_lexer": "ipython3",
   "version": "3.5.2"
  }
 },
 "nbformat": 4,
 "nbformat_minor": 0
}
