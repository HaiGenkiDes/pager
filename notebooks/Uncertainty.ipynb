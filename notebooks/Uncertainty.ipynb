{
 "cells": [
  {
   "cell_type": "code",
   "execution_count": 1,
   "metadata": {
    "collapsed": true
   },
   "outputs": [],
   "source": [
    "%matplotlib inline"
   ]
  },
  {
   "cell_type": "code",
   "execution_count": 2,
   "metadata": {
    "collapsed": true
   },
   "outputs": [],
   "source": [
    "from collections import OrderedDict\n",
    "import numpy as np\n",
    "from losspager.models.emploss import EmpiricalLoss\n",
    "from losspager.vis.impactscale import drawImpactScale\n",
    "import os.path\n",
    "from pprint import PrettyPrinter"
   ]
  },
  {
   "cell_type": "markdown",
   "metadata": {},
   "source": [
    "Uncertainties in PAGER are calculated using the L2G statistic for the fatality and economic loss models. This statistic is defined in Equation 4 in:\n",
    "\n",
    "\"An Empirical Model for Global Earthquake Fatality Estimation\", Jaiswal et al., 2010. http://earthquake.usgs.gov/data/pager/prodandref/Jaiswal_&_Wald_(2010)_Empirical_Fatality_Model.pdf\n",
    "\n",
    "The L2G values for each of the country models can be found in the XML files containing the theta and beta values for each model."
   ]
  },
  {
   "cell_type": "code",
   "execution_count": 3,
   "metadata": {
    "collapsed": false
   },
   "outputs": [],
   "source": [
    "fatfile = os.path.join(os.getcwd(),'..','test','data','fatality.xml')\n",
    "empfat = EmpiricalLoss.loadFromXML(fatfile)\n",
    "ecofile = os.path.join(os.getcwd(),'..','test','data','economy.xml')\n",
    "empeco = EmpiricalLoss.loadFromXML(ecofile)"
   ]
  },
  {
   "cell_type": "markdown",
   "metadata": {},
   "source": [
    "When we have losses from more than one country, as below, we combine the G values for all countries contributing to losses with the following algorithm:\n",
    "\n",
    "min(2.5,sqrt(sum(allGValues^2))\n",
    "\n",
    "where: \n",
    " \n",
    " * allGValues is an array of G values for country models that contributed to total loss.\n",
    " \n",
    "NB: If there are no losses from any country, then G values for all country models with population exposure will be combined."
   ]
  },
  {
   "cell_type": "code",
   "execution_count": 4,
   "metadata": {
    "collapsed": false
   },
   "outputs": [
    {
     "name": "stdout",
     "output_type": "stream",
     "text": [
      "Combined G value = 2.50\n"
     ]
    },
    {
     "data": {
      "image/png": "[encoded data removed]",
      "text/plain": [
       "<matplotlib.figure.Figure at 0x125eccbe0>"
      ]
     },
     "metadata": {},
     "output_type": "display_data"
    }
   ],
   "source": [
    "lossdict = {'AF':1e5,\n",
    "            'PK':1e4}\n",
    "G = empfat.getCombinedG(lossdict)\n",
    "print('Combined G value = %.2f' % G)\n",
    "probs = empfat.getProbabilities(lossdict,G)\n",
    "f = drawImpactScale(probs,'fatality')"
   ]
  },
  {
   "cell_type": "code",
   "execution_count": 5,
   "metadata": {
    "collapsed": false
   },
   "outputs": [
    {
     "name": "stdout",
     "output_type": "stream",
     "text": [
      "1.426483\n",
      "1.482544\n",
      "Combined G value = 2.06\n"
     ]
    },
    {
     "data": {
      "image/png": "[encoded data removed]",
      "text/plain": [
       "<matplotlib.figure.Figure at 0x10fd37cc0>"
      ]
     },
     "metadata": {},
     "output_type": "display_data"
    }
   ],
   "source": [
    "lossdict = {'PE':156,\n",
    "            'EC':345}\n",
    "print(empfat.getModel('PE').l2g)\n",
    "print(empfat.getModel('EC').l2g)\n",
    "G = empfat.getCombinedG(lossdict)\n",
    "print('Combined G value = %.2f' % G)\n",
    "probs = empfat.getProbabilities(lossdict,G)\n",
    "f = drawImpactScale(probs,'fatality')"
   ]
  },
  {
   "cell_type": "code",
   "execution_count": 6,
   "metadata": {
    "collapsed": false
   },
   "outputs": [
    {
     "name": "stdout",
     "output_type": "stream",
     "text": [
      "1.53615\n",
      "2.06714\n",
      "Combined G value = 2.50\n"
     ]
    },
    {
     "data": {
      "image/png": "[encoded data removed]",
      "text/plain": [
       "<matplotlib.figure.Figure at 0x10fd80cf8>"
      ]
     },
     "metadata": {},
     "output_type": "display_data"
    }
   ],
   "source": [
    "lossdict = {'US':63.7e9,\n",
    "           'MX':2.4e9}\n",
    "print(empeco.getModel('US').l2g)\n",
    "print(empeco.getModel('MX').l2g)\n",
    "G = empeco.getCombinedG(lossdict)\n",
    "print('Combined G value = %.2f' % G)\n",
    "probs = empeco.getProbabilities(lossdict,G)\n",
    "f = drawImpactScale(probs,'economic')"
   ]
  },
  {
   "cell_type": "code",
   "execution_count": 7,
   "metadata": {
    "collapsed": false
   },
   "outputs": [
    {
     "name": "stdout",
     "output_type": "stream",
     "text": [
      "2.5\n",
      "Combined G value = 2.50\n"
     ]
    },
    {
     "data": {
      "image/png": "[encoded data removed]",
      "text/plain": [
       "<matplotlib.figure.Figure at 0x126220be0>"
      ]
     },
     "metadata": {},
     "output_type": "display_data"
    }
   ],
   "source": [
    "lossdict = {'WU':3500} #3,500 *dollars*\n",
    "print(empeco.getModel('WU').l2g)\n",
    "G = empeco.getCombinedG(lossdict)\n",
    "print('Combined G value = %.2f' % G)\n",
    "probs = empeco.getProbabilities(lossdict,G)\n",
    "f = drawImpactScale(probs,'economic')"
   ]
  },
  {
   "cell_type": "markdown",
   "metadata": {},
   "source": [
    "The cell below encapsulates the results from a scenario in Clackamas County, Oregon."
   ]
  },
  {
   "cell_type": "code",
   "execution_count": 8,
   "metadata": {
    "collapsed": false
   },
   "outputs": [
    {
     "name": "stdout",
     "output_type": "stream",
     "text": [
      "Western US fatalities: 0\n",
      "G(fatalities) = 1.41\n",
      "G(economic) = 2.50\n",
      "Western US dollar losses: 3551\n"
     ]
    },
    {
     "data": {
      "image/png": "[encoded data removed]",
      "text/plain": [
       "<matplotlib.figure.Figure at 0x12880f438>"
      ]
     },
     "metadata": {},
     "output_type": "display_data"
    },
    {
     "data": {
      "image/png": "[encoded data removed]",
      "text/plain": [
       "<matplotlib.figure.Figure at 0x1288201d0>"
      ]
     },
     "metadata": {},
     "output_type": "display_data"
    }
   ],
   "source": [
    "#Array of population exposure to shaking\n",
    "expdict = {'WU':np.array([0,0,1933176.0,2091344.0,1545984.0,872.0,0,0,0,0])}\n",
    "fatdict = empfat.getLosses(expdict)\n",
    "Gf = empfat.getCombinedG(fatdict)\n",
    "print('Western US fatalities: %i' % fatdict['WU'])\n",
    "print('G(fatalities) = %.2f' % Gf)\n",
    "fatprobs = empfat.getProbabilities(fatdict,Gf)\n",
    "f = drawImpactScale(fatprobs,'fatality')\n",
    "\n",
    "#Array of economic exposure to shaking\n",
    "ecoexpdict = {'WU':np.array([0,0,1.26209480726e+12,1.36535649243e+12,1.00931233292e+12,2527876972.26,0,0,0,0])}\n",
    "ecodict = empeco.getLosses(ecoexpdict)\n",
    "Ge = empeco.getCombinedG(ecodict)\n",
    "print('G(economic) = %.2f' % Ge)\n",
    "print('Western US dollar losses: %i' % ecodict['WU'])\n",
    "ecoprobs = empeco.getProbabilities(ecodict,Ge)\n",
    "f = drawImpactScale(ecoprobs,'economic')"
   ]
  },
  {
   "cell_type": "code",
   "execution_count": null,
   "metadata": {
    "collapsed": true
   },
   "outputs": [],
   "source": []
  }
 ],
 "metadata": {
  "kernelspec": {
   "display_name": "Python 3",
   "language": "python",
   "name": "python3"
  },
  "language_info": {
   "codemirror_mode": {
    "name": "ipython",
    "version": 3
   },
   "file_extension": ".py",
   "mimetype": "text/x-python",
   "name": "python",
   "nbconvert_exporter": "python",
   "pygments_lexer": "ipython3",
   "version": "3.5.2"
  }
 },
 "nbformat": 4,
 "nbformat_minor": 0
}
